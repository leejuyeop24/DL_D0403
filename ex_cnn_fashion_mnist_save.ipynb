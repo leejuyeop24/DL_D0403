{
 "cells": [
  {
   "cell_type": "markdown",
   "metadata": {},
   "source": [
    "#### [ CNN Fashion MNIST MODEL]"
   ]
  },
  {
   "cell_type": "markdown",
   "metadata": {},
   "source": [
    "[1] 모듈 로딩 및 데이터 준비<hr>"
   ]
  },
  {
   "cell_type": "code",
   "execution_count": 1,
   "metadata": {},
   "outputs": [],
   "source": [
    "## 모듈 로딩\n",
    "import torch                                        ## Tensor 및 기본 함수들 관련 모듈\n",
    "import torch.nn as nn                               ## 인공신경망 관련 모듈\n",
    "import torch.nn.functional as F # type: ignore\n",
    "import torch.optim as optim \n",
    "from  torch.optim.lr_scheduler import ReduceLROnPlateau\n",
    "from torchmetrics.classification import *\n",
    "\n",
    "from torchvision.datasets import FashionMNIST       ## 비젼관련 내장 데이터셋 모듈\n",
    "from torch.utils.data import DataLoader             ## Pytorch의 데이터셋 관련 모듈\n",
    "from torchinfo import summary                       ## 모델 구조 및 정보 확인 모듈\n",
    "\n",
    "import torchvision.transforms as transforms         ## 비젼관련 이미지 증강/변환 관련 모듈\n",
    "\n",
    "import matplotlib.pyplot as plt                     ## 이미지 시각화 \n"
   ]
  },
  {
   "cell_type": "code",
   "execution_count": 2,
   "metadata": {},
   "outputs": [],
   "source": [
    "## 이미지 관련 준비\n",
    "IMG_ROOT = '../data/image/'                         ## 이미지 데이터 저장 폴더 경로\n",
    "\n"
   ]
  },
  {
   "cell_type": "markdown",
   "metadata": {},
   "source": [
    "[2] 데이터 로딩 <hr>"
   ]
  },
  {
   "cell_type": "code",
   "execution_count": 3,
   "metadata": {},
   "outputs": [],
   "source": [
    "## 내장 데이터셋 로딩\n",
    "trainDS=FashionMNIST(root=IMG_ROOT,\n",
    "                     download=True,\n",
    "                     train=True,\n",
    "                     transform=transforms.ToTensor())"
   ]
  },
  {
   "cell_type": "code",
   "execution_count": 4,
   "metadata": {},
   "outputs": [],
   "source": [
    "testDS=FashionMNIST(root=IMG_ROOT,\n",
    "                     download=True,\n",
    "                     train=False, \n",
    "                     transform=transforms.ToTensor())"
   ]
  },
  {
   "cell_type": "code",
   "execution_count": 5,
   "metadata": {},
   "outputs": [
    {
     "name": "stdout",
     "output_type": "stream",
     "text": [
      "type         : <class 'torchvision.datasets.mnist.FashionMNIST'>\n",
      "classes      : ['T-shirt/top', 'Trouser', 'Pullover', 'Dress', 'Coat', 'Sandal', 'Shirt', 'Sneaker', 'Bag', 'Ankle boot']\n",
      "class_to_idx : {'T-shirt/top': 0, 'Trouser': 1, 'Pullover': 2, 'Dress': 3, 'Coat': 4, 'Sandal': 5, 'Shirt': 6, 'Sneaker': 7, 'Bag': 8, 'Ankle boot': 9}\n"
     ]
    }
   ],
   "source": [
    "## 데이터셋 체크\n",
    "## - 타입\n",
    "print(f'type         : {type(testDS)}')\n",
    "\n",
    "## - 속성 : 클래스 정보\n",
    "print(f'classes      : {testDS.classes}')\n",
    "print(f'class_to_idx : {testDS.class_to_idx}')"
   ]
  },
  {
   "cell_type": "code",
   "execution_count": 7,
   "metadata": {},
   "outputs": [
    {
     "name": "stdout",
     "output_type": "stream",
     "text": [
      "targets      : tensor([9, 2, 1,  ..., 8, 1, 5]) 10\n",
      "data         : torch.Size([10000, 28, 28])\n"
     ]
    }
   ],
   "source": [
    "## - 속성 : 데이터와 타겟\n",
    "print(f'targets      : {testDS.targets} {len(trainDS.classes)}')\n",
    "print(f'data         : {testDS.data.shape}')\n"
   ]
  },
  {
   "cell_type": "code",
   "execution_count": 8,
   "metadata": {},
   "outputs": [
    {
     "data": {
      "image/png": "[encoded data removed]",
      "text/plain": [
       "<Figure size 640x480 with 1 Axes>"
      ]
     },
     "metadata": {},
     "output_type": "display_data"
    }
   ],
   "source": [
    "## 이미지 데이터와 타겟 확인\n",
    "idx_to_classes ={v:k for k, v in testDS.class_to_idx.items()}\n",
    "\n",
    "plt.imshow(testDS.data[0], cmap='gray')\n",
    "plt.title(idx_to_classes[testDS.targets[0].item()])\n",
    "plt.show()"
   ]
  },
  {
   "cell_type": "markdown",
   "metadata": {},
   "source": [
    "[3] 모델 정의 및 설계 <hr>"
   ]
  },
  {
   "cell_type": "code",
   "execution_count": 18,
   "metadata": {},
   "outputs": [],
   "source": [
    "# ## DNN MODEL -----------------------------------------------------------------------\n",
    "# ## 클래스이름 : FashionDNN\n",
    "# ## 부모클래스 : nn.Module\n",
    "# ## 모델구현법 : 지도학습 + 다중 분류 \n",
    "# ## 모델층 구성  입력피쳐/신호     출력/퍼셉트론수    활성화함수\n",
    "# ## 입  력  층       784             512             ReLu\n",
    "# ## 은  닉  층       512             256             ReLu\n",
    "# ## 은  닉  층       256             130             ReLu\n",
    "# ## 출  력  층       130             10               X\n",
    "# ## ----------------------------------84----------------------------------------------\n",
    "class FashionDNN(nn.Module):\n",
    "     def __init__(self):\n",
    "         super().__init__()\n",
    "         self.in_layer   = nn.Flatten()\n",
    "         self.hd_layer1  = nn.Linear(784, 512)\n",
    "         self.drop_layer = nn.Dropout(0.25)\n",
    "         self.hd_layer2  = nn.Linear(512, 256)\n",
    "         self.hd_layer3  = nn.Linear(256, 130)\n",
    "         self.out_layer  = nn.Linear(130, 10)\n",
    "        \n",
    "     ## 순방향 학습 진행 메서드 \n",
    "     def forward(self, data):\n",
    "         ## 3D (BS, H, W) ==> 2D (BS, H*W)\n",
    "         out = self.in_layer(data)\n",
    "\n",
    "         out =F.relu(self.hd_layer1(out))\n",
    "         out = self.drop_layer(out)\n",
    "\n",
    "         out =F.relu(self.hd_layer2(out))\n",
    "         out = self.drop_layer(out)\n",
    "\n",
    "         out =F.relu(self.hd_layer3(out))\n",
    "         out = self.out_layer(out)\n",
    "        \n",
    "         return out"
   ]
  },
  {
   "cell_type": "code",
   "execution_count": 19,
   "metadata": {},
   "outputs": [
    {
     "data": {
      "text/plain": [
       "==========================================================================================\n",
       "Layer (type:depth-idx)                   Output Shape              Param #\n",
       "==========================================================================================\n",
       "FashionDNN                               [100, 10]                 --\n",
       "├─Sequential: 1-1                        [100, 10]                 --\n",
       "│    └─Flatten: 2-1                      [100, 784]                --\n",
       "│    └─Linear: 2-2                       [100, 128]                100,480\n",
       "│    └─ReLU: 2-3                         [100, 128]                --\n",
       "│    └─Linear: 2-4                       [100, 10]                 1,290\n",
       "==========================================================================================\n",
       "Total params: 101,770\n",
       "Trainable params: 101,770\n",
       "Non-trainable params: 0\n",
       "Total mult-adds (M): 10.18\n",
       "==========================================================================================\n",
       "Input size (MB): 0.31\n",
       "Forward/backward pass size (MB): 0.11\n",
       "Params size (MB): 0.41\n",
       "Estimated Total Size (MB): 0.83\n",
       "=========================================================================================="
      ]
     },
     "execution_count": 19,
     "metadata": {},
     "output_type": "execute_result"
    }
   ],
   "source": [
    "## 모델 구조 확인 \n",
    "from models import * \n",
    "\n",
    "m1 = FashionDNN()\n",
    "summary(m1, input_size=(100, 28, 28))"
   ]
  },
  {
   "cell_type": "code",
   "execution_count": 20,
   "metadata": {},
   "outputs": [
    {
     "data": {
      "text/plain": [
       "(tensor([8, 4]), tensor([9, 0]))"
      ]
     },
     "execution_count": 20,
     "metadata": {},
     "output_type": "execute_result"
    }
   ],
   "source": [
    "## DNN모델에 이미지 테스트\n",
    "testImg = trainDS.data[0:2].float()\n",
    "pre=m1(testImg)\n",
    "pre.argmax(axis=1), trainDS.targets[0:2]"
   ]
  },
  {
   "cell_type": "markdown",
   "metadata": {},
   "source": [
    "[4] 학습 준비 <hr>"
   ]
  },
  {
   "cell_type": "code",
   "execution_count": 21,
   "metadata": {},
   "outputs": [],
   "source": [
    "## 학습 설정\n",
    "EPOCHS      = 10\n",
    "BATCH_SIZE  = 100\n",
    "T_ITERATION = int(trainDS.data.shape[0]/BATCH_SIZE)\n",
    "V_ITERATION = int(testDS.data.shape[0]/BATCH_SIZE)\n",
    "\n",
    "LR          = 0.001\n",
    "DEVICE      = 'gpu' if torch.cuda.is_available() else 'cpu'\n",
    "\n",
    "PAT_CNT     = 10\n",
    "CLASSES     = len(trainDS.classes)"
   ]
  },
  {
   "cell_type": "code",
   "execution_count": 22,
   "metadata": {},
   "outputs": [],
   "source": [
    "## 인스턴스 생성\n",
    "TRAINDL     = DataLoader(trainDS, batch_size=BATCH_SIZE, shuffle=True)\n",
    "TESTDL      = DataLoader(testDS,  batch_size=BATCH_SIZE, shuffle=True)\n",
    "\n",
    "MODEL       = FashionDNN()\n",
    "OPTIMIZER   = optim.Adam(MODEL.parameters(), lr=LR)\n",
    "SCHEDULER   = ReduceLROnPlateau(OPTIMIZER, mode='min', patience=PAT_CNT)\n",
    "\n",
    "LOSS_FN     = nn.CrossEntropyLoss()\n",
    "SCORE_FN    = MulticlassAccuracy(num_classes=CLASSES)"
   ]
  },
  {
   "cell_type": "markdown",
   "metadata": {},
   "source": [
    "-> 학습 진행 "
   ]
  },
  {
   "cell_type": "code",
   "execution_count": 29,
   "metadata": {},
   "outputs": [],
   "source": [
    "from torchmetrics.classification import MulticlassAccuracy\n",
    "\n",
    "def training(model, dataloader, optimizer, loss_fn, score_fn, iteration):\n",
    "    model.train()\n",
    "\n",
    "    E_LOSS, E_ACC = 0, 0\n",
    "\n",
    "    for feature, target in dataloader:\n",
    "        optimizer.zero_grad()\n",
    "\n",
    "        pre_y = model(feature)\n",
    "        loss = loss_fn(pre_y, target.reshape(-1).long())\n",
    "\n",
    "        acc = score_fn(pre_y, target.reshape(-1))\n",
    "\n",
    "        loss.backward()\n",
    "        optimizer.step()\n",
    "\n",
    "        E_LOSS += loss.item()\n",
    "        E_ACC += acc.item()\n",
    "\n",
    "    return E_LOSS / iteration, E_ACC / iteration\n"
   ]
  },
  {
   "cell_type": "code",
   "execution_count": 32,
   "metadata": {},
   "outputs": [],
   "source": [
    "## 학습 관련 함수들\n",
    "## - 검증 함수 : 테스트 또는 검즘용 데이터셋 사용하는 함수\n",
    "##\t\t\t\tW, b 업데이트 안함\n",
    "##- 검증 함수 --------------------------------------------\n",
    "##- 검증용 데이터셋으로 모델 검증\n",
    "##- 학습 지속여부 결정 기준이 됨\n",
    "##- -----------------------------------------------------\n",
    "def evaluate(model, dataloader, loss_fn, score_fn, iteration):\n",
    "    model.eval()\n",
    "    total_loss, total_score = 0, 0\n",
    "\n",
    "    with torch.no_grad():\n",
    "        for i, (x, y) in enumerate(dataloader):\n",
    "            pred = model(x)\n",
    "            loss = loss_fn(pred, y.reshape(-1).long())\n",
    "            acc = score_fn(pred, y.reshape(-1))\n",
    "\n",
    "            total_loss += loss.item()\n",
    "            total_score += acc.item()\n",
    "\n",
    "            if i + 1 == iteration:\n",
    "                break\n",
    "\n",
    "    return total_loss / iteration, total_score / iteration"
   ]
  },
  {
   "cell_type": "code",
   "execution_count": 43,
   "metadata": {},
   "outputs": [],
   "source": [
    "MODEL_DIR = '../D0403/'\n",
    "MODEL_FILE = 'best_model.pt'"
   ]
  },
  {
   "cell_type": "code",
   "execution_count": 44,
   "metadata": {},
   "outputs": [
    {
     "name": "stdout",
     "output_type": "stream",
     "text": [
      "\n",
      "EPOCH[0/10]----------------\n",
      "- TRAIN_LOSS 0.25377  ACC 0.90718\n",
      "- VALID_LOSS 0.33740  ACC 0.88140\n",
      "\n",
      "EPOCH[1/10]----------------\n",
      "- TRAIN_LOSS 0.24549  ACC 0.90899\n",
      "- VALID_LOSS 0.33317  ACC 0.88604\n",
      "\n",
      "EPOCH[2/10]----------------\n",
      "- TRAIN_LOSS 0.23877  ACC 0.91201\n",
      "- VALID_LOSS 0.34673  ACC 0.87777\n",
      "\n",
      "EPOCH[3/10]----------------\n",
      "- TRAIN_LOSS 0.23304  ACC 0.91395\n",
      "- VALID_LOSS 0.34503  ACC 0.88037\n",
      "\n",
      "EPOCH[4/10]----------------\n",
      "- TRAIN_LOSS 0.22519  ACC 0.91664\n",
      "- VALID_LOSS 0.34287  ACC 0.87942\n",
      "\n",
      "EPOCH[5/10]----------------\n",
      "- TRAIN_LOSS 0.22016  ACC 0.91852\n",
      "- VALID_LOSS 0.32584  ACC 0.88861\n",
      "\n",
      "EPOCH[6/10]----------------\n",
      "- TRAIN_LOSS 0.21606  ACC 0.91863\n",
      "- VALID_LOSS 0.33306  ACC 0.88135\n",
      "\n",
      "EPOCH[7/10]----------------\n",
      "- TRAIN_LOSS 0.20982  ACC 0.92272\n",
      "- VALID_LOSS 0.34296  ACC 0.88001\n",
      "\n",
      "EPOCH[8/10]----------------\n",
      "- TRAIN_LOSS 0.20703  ACC 0.92414\n",
      "- VALID_LOSS 0.33813  ACC 0.88207\n",
      "\n",
      "EPOCH[9/10]----------------\n",
      "- TRAIN_LOSS 0.19999  ACC 0.92586\n",
      "- VALID_LOSS 0.33795  ACC 0.88655\n"
     ]
    }
   ],
   "source": [
    "## 학습 관련 모듈 로딩\n",
    "from utils import * \n",
    "\n",
    "# 에포크 : DS 처음부터 ~ 끝까지 학습  \n",
    "HIST ={'Train':[[],[]], 'Valid':[[],[]]}  \n",
    "\n",
    "BEST_ACC = 0\n",
    "\n",
    "# 에포크 단위 학습/검증 진행 \n",
    "for epoch in range(EPOCHS):\n",
    "    trainLoss, trainAcc = training(MODEL, TRAINDL, OPTIMIZER, LOSS_FN, SCORE_FN, T_ITERATION)\n",
    "    validLoss, validAcc = evaluate(MODEL, TESTDL, LOSS_FN, SCORE_FN, V_ITERATION)\n",
    "\n",
    "    # 모델 저장\n",
    "    if BEST_ACC < validAcc:     # 0 < 0.1212 ==> 0.1212 < 현재 valacc\n",
    "        torch.save(MODEL, MODEL_DIR+MODEL_FILE)\n",
    "        BEST_ACC = validAcc\n",
    "\n",
    "    HIST['Train'][0].append(trainLoss) \n",
    "    HIST['Train'][1].append(trainAcc) \n",
    "    \n",
    "    HIST['Valid'][0].append(validLoss) \n",
    "    HIST['Valid'][1].append(validAcc) \n",
    "\n",
    "    print(f'\\nEPOCH[{epoch}/{EPOCHS}]----------------')\n",
    "    print(f'- TRAIN_LOSS {trainLoss:.5f}  ACC {trainAcc:.5f}')\n",
    "    print(f'- VALID_LOSS {validLoss:.5f}  ACC {validAcc:.5f}')"
   ]
  },
  {
   "cell_type": "code",
   "execution_count": 48,
   "metadata": {},
   "outputs": [],
   "source": [
    "import matplotlib.pyplot as plt\n",
    "\n",
    "def drawResult(HIST, EPOCHS):\n",
    "    plt.figure(figsize=(10, 4))\n",
    "\n",
    "    # Loss 시각화\n",
    "    plt.subplot(1, 2, 1)\n",
    "    plt.plot(range(1, EPOCHS + 1), HIST['Train'][0], label='Train Loss')\n",
    "    plt.plot(range(1, EPOCHS + 1), HIST['Valid'][0], label='Valid Loss')\n",
    "    plt.xlabel('Epoch')\n",
    "    plt.ylabel('Loss')\n",
    "    plt.title('Loss Curve')\n",
    "    plt.legend()\n",
    "    plt.grid(True)\n",
    "\n",
    "    # Accuracy 시각화\n",
    "    plt.subplot(1, 2, 2)\n",
    "    plt.plot(range(1, EPOCHS + 1), HIST['Train'][1], label='Train Accuracy')\n",
    "    plt.plot(range(1, EPOCHS + 1), HIST['Valid'][1], label='Valid Accuracy')\n",
    "    plt.xlabel('Epoch')\n",
    "    plt.ylabel('Accuracy')\n",
    "    plt.title('Accuracy Curve')\n",
    "    plt.legend()\n",
    "    plt.grid(True)\n",
    "\n",
    "    plt.tight_layout()\n",
    "    plt.show()\n"
   ]
  },
  {
   "cell_type": "code",
   "execution_count": 46,
   "metadata": {},
   "outputs": [
    {
     "data": {
      "image/png": "[encoded data removed]",
      "text/plain": [
       "<Figure size 1000x400 with 2 Axes>"
      ]
     },
     "metadata": {},
     "output_type": "display_data"
    }
   ],
   "source": [
    "## 학습 시각화\n",
    "drawResult(HIST, EPOCHS)"
   ]
  },
  {
   "cell_type": "markdown",
   "metadata": {},
   "source": [
    "[7] 모델 활용 <hr>"
   ]
  },
  {
   "cell_type": "code",
   "execution_count": 56,
   "metadata": {},
   "outputs": [
    {
     "ename": "UnpicklingError",
     "evalue": "Weights only load failed. This file can still be loaded, to do so you have two options \n\t(1) Re-running `torch.load` with `weights_only` set to `False` will likely succeed, but it can result in arbitrary code execution. Do it only if you got the file from a trusted source.\n\t(2) Alternatively, to load with `weights_only=True` please check the recommended steps in the following error message.\n\tWeightsUnpickler error: Unsupported global: GLOBAL models.FashionDNN was not an allowed global by default. Please use `torch.serialization.add_safe_globals([FashionDNN])` to allowlist this global if you trust this class/function.\n\nCheck the documentation of torch.load to learn more about types accepted by default with weights_only https://pytorch.org/docs/stable/generated/torch.load.html.",
     "output_type": "error",
     "traceback": [
      "\u001b[1;31m---------------------------------------------------------------------------\u001b[0m",
      "\u001b[1;31mUnpicklingError\u001b[0m                           Traceback (most recent call last)",
      "Cell \u001b[1;32mIn[56], line 3\u001b[0m\n\u001b[0;32m      1\u001b[0m \u001b[38;5;66;03m## 저장된 모델 로딩\u001b[39;00m\n\u001b[0;32m      2\u001b[0m model \u001b[38;5;241m=\u001b[39m FashionDNN()  \u001b[38;5;66;03m# 모델 인스턴스 생성\u001b[39;00m\n\u001b[1;32m----> 3\u001b[0m model \u001b[38;5;241m=\u001b[39m \u001b[43mtorch\u001b[49m\u001b[38;5;241;43m.\u001b[39;49m\u001b[43mload\u001b[49m\u001b[43m(\u001b[49m\u001b[43mMODEL_DIR\u001b[49m\u001b[43m \u001b[49m\u001b[38;5;241;43m+\u001b[39;49m\u001b[43m \u001b[49m\u001b[43mMODEL_FILE\u001b[49m\u001b[43m,\u001b[49m\u001b[43m \u001b[49m\u001b[43mweights_only\u001b[49m\u001b[38;5;241;43m=\u001b[39;49m\u001b[38;5;28;43;01mTrue\u001b[39;49;00m\u001b[43m)\u001b[49m\n\u001b[0;32m      4\u001b[0m model\n",
      "File \u001b[1;32mc:\\Users\\KDP-35\\anaconda3\\envs\\DL_TORCH\\lib\\site-packages\\torch\\serialization.py:1096\u001b[0m, in \u001b[0;36mload\u001b[1;34m(f, map_location, pickle_module, weights_only, mmap, **pickle_load_args)\u001b[0m\n\u001b[0;32m   1090\u001b[0m                 \u001b[38;5;28;01mreturn\u001b[39;00m _load(opened_zipfile,\n\u001b[0;32m   1091\u001b[0m                              map_location,\n\u001b[0;32m   1092\u001b[0m                              _weights_only_unpickler,\n\u001b[0;32m   1093\u001b[0m                              overall_storage\u001b[38;5;241m=\u001b[39moverall_storage,\n\u001b[0;32m   1094\u001b[0m                              \u001b[38;5;241m*\u001b[39m\u001b[38;5;241m*\u001b[39mpickle_load_args)\n\u001b[0;32m   1095\u001b[0m             \u001b[38;5;28;01mexcept\u001b[39;00m \u001b[38;5;167;01mRuntimeError\u001b[39;00m \u001b[38;5;28;01mas\u001b[39;00m e:\n\u001b[1;32m-> 1096\u001b[0m                 \u001b[38;5;28;01mraise\u001b[39;00m pickle\u001b[38;5;241m.\u001b[39mUnpicklingError(_get_wo_message(\u001b[38;5;28mstr\u001b[39m(e))) \u001b[38;5;28;01mfrom\u001b[39;00m\u001b[38;5;250m \u001b[39m\u001b[38;5;28;01mNone\u001b[39;00m\n\u001b[0;32m   1097\u001b[0m         \u001b[38;5;28;01mreturn\u001b[39;00m _load(\n\u001b[0;32m   1098\u001b[0m             opened_zipfile,\n\u001b[0;32m   1099\u001b[0m             map_location,\n\u001b[1;32m   (...)\u001b[0m\n\u001b[0;32m   1102\u001b[0m             \u001b[38;5;241m*\u001b[39m\u001b[38;5;241m*\u001b[39mpickle_load_args,\n\u001b[0;32m   1103\u001b[0m         )\n\u001b[0;32m   1104\u001b[0m \u001b[38;5;28;01mif\u001b[39;00m mmap:\n",
      "\u001b[1;31mUnpicklingError\u001b[0m: Weights only load failed. This file can still be loaded, to do so you have two options \n\t(1) Re-running `torch.load` with `weights_only` set to `False` will likely succeed, but it can result in arbitrary code execution. Do it only if you got the file from a trusted source.\n\t(2) Alternatively, to load with `weights_only=True` please check the recommended steps in the following error message.\n\tWeightsUnpickler error: Unsupported global: GLOBAL models.FashionDNN was not an allowed global by default. Please use `torch.serialization.add_safe_globals([FashionDNN])` to allowlist this global if you trust this class/function.\n\nCheck the documentation of torch.load to learn more about types accepted by default with weights_only https://pytorch.org/docs/stable/generated/torch.load.html."
     ]
    }
   ],
   "source": [
    "## 저장된 모델 로딩\n",
    "model = FashionDNN()  # 모델 인스턴스 생성\n",
    "model = torch.load(MODEL_DIR + MODEL_FILE, weights_only=True)\n",
    "model\n",
    "\n"
   ]
  },
  {
   "cell_type": "code",
   "execution_count": 55,
   "metadata": {},
   "outputs": [],
   "source": [
    "## 예측 - 입력 데이터\n",
    "## 모델 학습 시 형태의 데이터로 전처리 진행\n",
    "img, target = testDS[0]\n",
    "\n",
    "predicted_value = model(img)"
   ]
  },
  {
   "cell_type": "code",
   "execution_count": null,
   "metadata": {},
   "outputs": [],
   "source": [
    "## 저장된 층별 가중치와 바이어스 로딩\n",
    "WEIGHTS_FILE = "
   ]
  }
 ],
 "metadata": {
  "kernelspec": {
   "display_name": "DL_TORCH",
   "language": "python",
   "name": "python3"
  },
  "language_info": {
   "codemirror_mode": {
    "name": "ipython",
    "version": 3
   },
   "file_extension": ".py",
   "mimetype": "text/x-python",
   "name": "python",
   "nbconvert_exporter": "python",
   "pygments_lexer": "ipython3",
   "version": "3.9.21"
  }
 },
 "nbformat": 4,
 "nbformat_minor": 2
}
